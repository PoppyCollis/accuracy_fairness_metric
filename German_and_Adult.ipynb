{
  "nbformat": 4,
  "nbformat_minor": 0,
  "metadata": {
    "colab": {
      "name": "German_and_Adult.ipynb",
      "provenance": [],
      "collapsed_sections": [
        "P-ygJNn1jeCW",
        "HkPZn81Yjxp3",
        "rh6APOPSkEh0",
        "7YskGtCRkILJ",
        "869-ZIWmkT6q",
        "29ovdpaHmc23",
        "Z0J5MeZ5mym5",
        "nBFBQNVKnApI",
        "xPfopYgWnIyb",
        "X8R1JmQInV51",
        "d3j_ZWBAryu1"
      ]
    },
    "kernelspec": {
      "name": "python3",
      "display_name": "Python 3"
    },
    "language_info": {
      "name": "python"
    }
  },
  "cells": [
    {
      "cell_type": "markdown",
      "source": [
        "#934G5: Machine Learning\n",
        "# CandNo: 244106\n"
      ],
      "metadata": {
        "id": "495QWDhjU10a"
      }
    },
    {
      "cell_type": "code",
      "source": [
        "!pip install 'aif360[LFR]'"
      ],
      "metadata": {
        "id": "vGaJ7tjQU3Wu"
      },
      "execution_count": null,
      "outputs": []
    },
    {
      "cell_type": "code",
      "source": [
        "cd /usr/local/lib/python3.7/dist-packages/aif360/data/raw/adult"
      ],
      "metadata": {
        "colab": {
          "base_uri": "https://localhost:8080/"
        },
        "id": "dNOel_8viQFw",
        "outputId": "41313eec-4f4b-4c81-98d8-3d2379544371"
      },
      "execution_count": 2,
      "outputs": [
        {
          "output_type": "stream",
          "name": "stdout",
          "text": [
            "/usr/local/lib/python3.7/dist-packages/aif360/data/raw/adult\n"
          ]
        }
      ]
    },
    {
      "cell_type": "code",
      "source": [
        "!wget https://archive.ics.uci.edu/ml/machine-learning-databases/adult/adult.data\n",
        "!wget https://archive.ics.uci.edu/ml/machine-learning-databases/adult/adult.names\n",
        "!wget https://archive.ics.uci.edu/ml/machine-learning-databases/adult/adult.test"
      ],
      "metadata": {
        "colab": {
          "base_uri": "https://localhost:8080/"
        },
        "id": "pX4R_V7HiRoS",
        "outputId": "092d201e-4a81-4eba-ab67-fc96e631c1a5"
      },
      "execution_count": 3,
      "outputs": [
        {
          "output_type": "stream",
          "name": "stdout",
          "text": [
            "--2022-05-13 11:26:54--  https://archive.ics.uci.edu/ml/machine-learning-databases/adult/adult.data\n",
            "Resolving archive.ics.uci.edu (archive.ics.uci.edu)... 128.195.10.252\n",
            "Connecting to archive.ics.uci.edu (archive.ics.uci.edu)|128.195.10.252|:443... connected.\n",
            "HTTP request sent, awaiting response... 200 OK\n",
            "Length: 3974305 (3.8M) [application/x-httpd-php]\n",
            "Saving to: ‘adult.data.3’\n",
            "\n",
            "adult.data.3        100%[===================>]   3.79M  3.13MB/s    in 1.2s    \n",
            "\n",
            "2022-05-13 11:26:56 (3.13 MB/s) - ‘adult.data.3’ saved [3974305/3974305]\n",
            "\n",
            "--2022-05-13 11:26:56--  https://archive.ics.uci.edu/ml/machine-learning-databases/adult/adult.names\n",
            "Resolving archive.ics.uci.edu (archive.ics.uci.edu)... 128.195.10.252\n",
            "Connecting to archive.ics.uci.edu (archive.ics.uci.edu)|128.195.10.252|:443... connected.\n",
            "HTTP request sent, awaiting response... 200 OK\n",
            "Length: 5229 (5.1K) [application/x-httpd-php]\n",
            "Saving to: ‘adult.names.3’\n",
            "\n",
            "adult.names.3       100%[===================>]   5.11K  --.-KB/s    in 0s      \n",
            "\n",
            "2022-05-13 11:26:57 (230 MB/s) - ‘adult.names.3’ saved [5229/5229]\n",
            "\n",
            "--2022-05-13 11:26:57--  https://archive.ics.uci.edu/ml/machine-learning-databases/adult/adult.test\n",
            "Resolving archive.ics.uci.edu (archive.ics.uci.edu)... 128.195.10.252\n",
            "Connecting to archive.ics.uci.edu (archive.ics.uci.edu)|128.195.10.252|:443... connected.\n",
            "HTTP request sent, awaiting response... 200 OK\n",
            "Length: 2003153 (1.9M) [application/x-httpd-php]\n",
            "Saving to: ‘adult.test.3’\n",
            "\n",
            "adult.test.3        100%[===================>]   1.91M  1.81MB/s    in 1.1s    \n",
            "\n",
            "2022-05-13 11:26:59 (1.81 MB/s) - ‘adult.test.3’ saved [2003153/2003153]\n",
            "\n"
          ]
        }
      ]
    },
    {
      "cell_type": "code",
      "source": [
        "cd /usr/local/lib/python3.7/dist-packages/aif360/data/raw/german"
      ],
      "metadata": {
        "colab": {
          "base_uri": "https://localhost:8080/"
        },
        "id": "64vDFy44iXd5",
        "outputId": "24e89afc-9f4b-4dbd-9dba-03f31bb353df"
      },
      "execution_count": 4,
      "outputs": [
        {
          "output_type": "stream",
          "name": "stdout",
          "text": [
            "/usr/local/lib/python3.7/dist-packages/aif360/data/raw/german\n"
          ]
        }
      ]
    },
    {
      "cell_type": "code",
      "source": [
        "!wget https://archive.ics.uci.edu/ml/machine-learning-databases/statlog/german/german.data\n",
        "!wget https://archive.ics.uci.edu/ml/machine-learning-databases/statlog/german/german.doc"
      ],
      "metadata": {
        "colab": {
          "base_uri": "https://localhost:8080/"
        },
        "id": "HIfBMeQBia-7",
        "outputId": "6c769eeb-ee0d-4865-e858-64913c583471"
      },
      "execution_count": 5,
      "outputs": [
        {
          "output_type": "stream",
          "name": "stdout",
          "text": [
            "--2022-05-13 11:26:59--  https://archive.ics.uci.edu/ml/machine-learning-databases/statlog/german/german.data\n",
            "Resolving archive.ics.uci.edu (archive.ics.uci.edu)... 128.195.10.252\n",
            "Connecting to archive.ics.uci.edu (archive.ics.uci.edu)|128.195.10.252|:443... connected.\n",
            "HTTP request sent, awaiting response... 200 OK\n",
            "Length: 79793 (78K) [application/x-httpd-php]\n",
            "Saving to: ‘german.data.3’\n",
            "\n",
            "german.data.3       100%[===================>]  77.92K   260KB/s    in 0.3s    \n",
            "\n",
            "2022-05-13 11:27:00 (260 KB/s) - ‘german.data.3’ saved [79793/79793]\n",
            "\n",
            "--2022-05-13 11:27:00--  https://archive.ics.uci.edu/ml/machine-learning-databases/statlog/german/german.doc\n",
            "Resolving archive.ics.uci.edu (archive.ics.uci.edu)... 128.195.10.252\n",
            "Connecting to archive.ics.uci.edu (archive.ics.uci.edu)|128.195.10.252|:443... connected.\n",
            "HTTP request sent, awaiting response... 200 OK\n",
            "Length: 4679 (4.6K) [application/x-httpd-php]\n",
            "Saving to: ‘german.doc.3’\n",
            "\n",
            "german.doc.3        100%[===================>]   4.57K  --.-KB/s    in 0s      \n",
            "\n",
            "2022-05-13 11:27:00 (231 MB/s) - ‘german.doc.3’ saved [4679/4679]\n",
            "\n"
          ]
        }
      ]
    },
    {
      "cell_type": "markdown",
      "source": [
        "## For some reason you need to run the following cell twice:"
      ],
      "metadata": {
        "id": "hYi4jmU4LFCh"
      }
    },
    {
      "cell_type": "code",
      "source": [
        "# NOTE: import (run cell) twice\n",
        "\n",
        "import numpy as np\n",
        "import matplotlib.pyplot as plt\n",
        "\n",
        "# AIF360 imports\n",
        "from aif360.datasets import AdultDataset\n",
        "from aif360.algorithms.preprocessing.optim_preproc_helpers.data_preproc_functions import load_preproc_data_adult\n",
        "from aif360.algorithms.preprocessing.optim_preproc_helpers.data_preproc_functions import load_preproc_data_german\n",
        "\n",
        "from aif360.metrics import ClassificationMetric\n",
        "from aif360.algorithms.preprocessing.reweighing import Reweighing\n",
        "\n",
        "# Scaler for normalisation\n",
        "from sklearn.preprocessing import StandardScaler  \n",
        "from sklearn.model_selection import *\n",
        "\n",
        "# models\n",
        "from sklearn.linear_model import LogisticRegression\n",
        "\n",
        "np.random.seed(0) "
      ],
      "metadata": {
        "id": "0v-LcV6VidUZ"
      },
      "execution_count": 7,
      "outputs": []
    },
    {
      "cell_type": "markdown",
      "source": [
        "#Adult\n",
        "\n",
        "##Step 1. Prepare the dataset"
      ],
      "metadata": {
        "id": "HHXArMPuihT9"
      }
    },
    {
      "cell_type": "code",
      "source": [
        "# label the sensitive feature to be investigated\n",
        "privileged_groups = [{'sex': 1}]\n",
        "unprivileged_groups = [{'sex': 0}]\n",
        "\n",
        "# load in the dataset\n",
        "dataset_orig = load_preproc_data_adult(['sex'])\n",
        "\n",
        "# split training and test data\n",
        "train, test = dataset_orig.split([0.7], shuffle=True)\n",
        "\n",
        "# normalise dataset\n",
        "ss = StandardScaler()\n",
        "# try actually normalising the whole 'train' and 'test' dataset objects\n",
        "train.features = ss.fit_transform(train.features)\n",
        "X_train = train.features\n",
        "y_train = train.labels.ravel()\n",
        "test.features = ss.transform(test.features) \n",
        "X_test = test.features\n",
        "y_test = test.labels.ravel()\n",
        "\n",
        "# Viktoriia's method: does not actually change the train or test objects...\n",
        "#X_train = ss.fit_transform(train.features)\n",
        "#y_train = train.labels.ravel()\n",
        "#X_test = ss.transform(test.features) \n",
        "#y_test = test.labels.ravel()"
      ],
      "metadata": {
        "id": "8zm_NMPfipfB"
      },
      "execution_count": 8,
      "outputs": []
    },
    {
      "cell_type": "code",
      "source": [
        "# functions to get folds and to perform 5-fold cross-validation\n",
        "\n",
        "def get_folds(X):\n",
        "\n",
        "  # split into 5 folds \n",
        "  kf = KFold(n_splits=5)\n",
        "  kf.get_n_splits(X)\n",
        "\n",
        "  # return the indices of all 5 splits\n",
        "  fold_indices = kf.split(X)\n",
        "\n",
        "  # iterate through and put into dictionary\n",
        "  folds = {}\n",
        "  for i, (train_index, test_index) in enumerate(fold_indices):\n",
        "    folds[i] = (train_index, test_index)\n",
        "\n",
        "  return folds\n",
        "\n",
        "def perform_cross_fold_accuracy(folds, X, y, reg_strength, train_weights=None, reweighed = False):\n",
        "  \"\"\"\n",
        "    only pass in X_train and y_train into this function as we only want to \n",
        "  perform cross validation on the training set.\n",
        "  \"\"\"\n",
        "  accuracies = []\n",
        "\n",
        "  # loop through dictionary and get accuracy score for each fold\n",
        "  for fold_num, indices in folds.items():\n",
        "    X_train, X_test = X[indices[0]], X[indices[1]]\n",
        "    y_train, y_test = y[indices[0]], y[indices[1]]\n",
        "\n",
        "    # if train_weights not equal to None, then get relevant subset\n",
        "    if reweighed == False:\n",
        "      sample_weights = None\n",
        "    else:\n",
        "      sample_weights = train_weights[indices[0]]\n",
        "\n",
        "    # define and fit classifier on the training data\n",
        "    clf = LogisticRegression(C=reg_strength, solver='liblinear', random_state=1)  \n",
        "    clf.fit(X_train,y_train,sample_weight=sample_weights)\n",
        "\n",
        "    # get predictions \n",
        "    pred = clf.predict(X_test)\n",
        "\n",
        "    # compute the accuracy and append to list\n",
        "    accuracy = clf.score(X_test, y_test)\n",
        "    accuracies.append(accuracy)\n",
        "\n",
        "  # return the mean and standard deviation of accuracies for all 5 folds\n",
        "  return np.mean(accuracies), np.std(accuracies)"
      ],
      "metadata": {
        "id": "9I6IZPgoiyhF"
      },
      "execution_count": 9,
      "outputs": []
    },
    {
      "cell_type": "code",
      "source": [
        "# create folds dict\n",
        "folds = get_folds(X_train)"
      ],
      "metadata": {
        "id": "z2c4dkk2i1hX"
      },
      "execution_count": 10,
      "outputs": []
    },
    {
      "cell_type": "markdown",
      "source": [
        "###Step 2. C parameter sweep for accuracy"
      ],
      "metadata": {
        "id": "D7_cKIB4jMFw"
      }
    },
    {
      "cell_type": "code",
      "source": [
        "def parameter_sweep_accuracy(c_s, reweighed=False):\n",
        "\n",
        "  accs = []\n",
        "  stds = []\n",
        "\n",
        "  # loop through C values and perform 5-fold cross validation on training dataset\n",
        "  for c_value in c_s:\n",
        "    if reweighed:\n",
        "      acc, std = perform_cross_fold_accuracy(folds, X_train, y_train, reg_strength=c_value, train_weights=train.instance_weights, reweighed=True)\n",
        "    else:\n",
        "      acc, std = perform_cross_fold_accuracy(folds, X_train, y_train, reg_strength=c_value)\n",
        "\n",
        "    accs.append(acc)\n",
        "    stds.append(std)\n",
        "\n",
        "  return accs, stds"
      ],
      "metadata": {
        "id": "0f-ARqQZi3ul"
      },
      "execution_count": 11,
      "outputs": []
    },
    {
      "cell_type": "code",
      "source": [
        "# provide a list of possible regularisation values\n",
        "c_values = np.logspace(-15, 15, num=50)\n",
        "#c_values = np.logspace(-6, 1, num=50)\n",
        "\n",
        "# perform hyperparameter sweep over reg strengths\n",
        "accs1, stds1 = parameter_sweep_accuracy(c_values)"
      ],
      "metadata": {
        "id": "EYeNgsf4i53Z"
      },
      "execution_count": 12,
      "outputs": []
    },
    {
      "cell_type": "code",
      "source": [
        "# graph of regularisation strength versus accuracy\n",
        "\n",
        "def plot_graph(c_s, metric, standard_deviations, metric_name, dataset):\n",
        "  # plot accuracy against log of regularisation strength\n",
        "  plt.plot(np.log10(c_s), metric)\n",
        "  plt.errorbar(np.log10(c_s), metric, yerr = standard_deviations, fmt='.', ecolor = 'cyan', color='black')\n",
        "  plt.title(f'Effect of regularisation strength on {metric_name}: {dataset}')\n",
        "  # C is the inverse of regularization strength\n",
        "  plt.xlabel(\" $Log_{10}$(C)\")\n",
        "  if metric_name == 'accuracy':\n",
        "    plt.ylabel(\"Accuracy\")\n",
        "  if metric_name == 'fairness':\n",
        "    plt.ylabel(\"Equality of Opportunity\")\n",
        "  if metric_name == 'both':\n",
        "    plt.ylabel('Z')    \n",
        "  plt.show()"
      ],
      "metadata": {
        "id": "JB3JCuoPi7z2"
      },
      "execution_count": 13,
      "outputs": []
    },
    {
      "cell_type": "code",
      "source": [
        "plot_graph(c_values, accs1, stds1, 'accuracy', 'Adult')"
      ],
      "metadata": {
        "colab": {
          "base_uri": "https://localhost:8080/",
          "height": 299
        },
        "id": "oOVQFrBIjDpH",
        "outputId": "dd92d648-0487-4af4-e4d0-35605b430420"
      },
      "execution_count": 14,
      "outputs": [
        {
          "output_type": "display_data",
          "data": {
            "text/plain": [
              "<Figure size 432x288 with 1 Axes>"
            ],
            "image/png": "[encoded data removed]"
          },
          "metadata": {
            "needs_background": "light"
          }
        }
      ]
    },
    {
      "cell_type": "code",
      "source": [
        "# find the most accurate\n",
        "def find_accuracy_c_value(accuracies, c_s):\n",
        "  print(f'The maximum accuracy achieved during 5-fold cross-val is {max(accuracies)}')\n",
        "  index = accuracies.index(max(accuracies))\n",
        "  print(f'The index of this highest score is {index}')\n",
        "  best_for_accuracy = c_s[index]\n",
        "  print(f'Therefore, the best C value is {best_for_accuracy}')\n",
        "  return best_for_accuracy"
      ],
      "metadata": {
        "id": "PTSyKHmWCgKH"
      },
      "execution_count": 15,
      "outputs": []
    },
    {
      "cell_type": "code",
      "source": [
        "best_for_ac1 = find_accuracy_c_value(accs1, c_values)"
      ],
      "metadata": {
        "colab": {
          "base_uri": "https://localhost:8080/"
        },
        "id": "5TFzcFYACvS_",
        "outputId": "230a10bf-ad85-4898-8731-1bed922b483c"
      },
      "execution_count": 16,
      "outputs": [
        {
          "output_type": "stream",
          "name": "stdout",
          "text": [
            "The maximum accuracy achieved during 5-fold cross-val is 0.804001308538186\n",
            "The index of this highest score is 22\n",
            "Therefore, the best C value is 0.029470517025518096\n"
          ]
        }
      ]
    },
    {
      "cell_type": "code",
      "source": [
        "# Using above C-value, train and test the selected (accurate) model\n",
        "\n",
        "def test_final_model_accuracy(best_for_accuracy, X_train, y_train, X_test, y_test, reweighed=False):\n",
        "  # only fit Classifier on the training data\n",
        "  clf = LogisticRegression(C=best_for_accuracy, solver='liblinear', random_state=1)  \n",
        "  if reweighed:\n",
        "    clf.fit(X_train,y_train, sample_weight=train.instance_weights)\n",
        "  else:\n",
        "    clf.fit(X_train,y_train)\n",
        "  # get predictions \n",
        "  pred = clf.predict(X_test)\n",
        "  # compute the accuracy\n",
        "  accuracy = clf.score(X_test, y_test)\n",
        "  print(f'The final accuracy for this model is {accuracy}')\n",
        "  return accuracy\n",
        "\n",
        "best_accuracy = test_final_model_accuracy(best_for_ac1, X_train, y_train, X_test, y_test)"
      ],
      "metadata": {
        "colab": {
          "base_uri": "https://localhost:8080/"
        },
        "id": "Cfi-QFbsDKHb",
        "outputId": "8f5e9c18-b4ec-4dd8-a1f6-764df5e758d3"
      },
      "execution_count": 17,
      "outputs": [
        {
          "output_type": "stream",
          "name": "stdout",
          "text": [
            "The final accuracy for this model is 0.8042039172865625\n"
          ]
        }
      ]
    },
    {
      "cell_type": "code",
      "source": [
        "#best_accuracy = test_final_model_accuracy(6.25E-06, X_train, y_train, X_test, y_test,reweighed=False)"
      ],
      "metadata": {
        "colab": {
          "base_uri": "https://localhost:8080/"
        },
        "id": "N4fjB5KaOnaw",
        "outputId": "d344837d-5671-4a75-9a58-104898dcc0e5"
      },
      "execution_count": 82,
      "outputs": [
        {
          "output_type": "stream",
          "name": "stdout",
          "text": [
            "The final accuracy for this model is 0.64\n"
          ]
        }
      ]
    },
    {
      "cell_type": "markdown",
      "source": [
        "##Step 3. Fairness parameter sweep"
      ],
      "metadata": {
        "id": "P-ygJNn1jeCW"
      }
    },
    {
      "cell_type": "code",
      "source": [
        "def perform_cross_fold_fairness(folds, training_data, reg_strength, train_weights=None, reweighed=False): \n",
        "  \"\"\" \n",
        "    only pass in X_train and y_train into this function as we only want to \n",
        "  perform cross validation on the training \n",
        "  \"\"\"\n",
        "\n",
        "  eq_ops = []\n",
        "\n",
        "  # first convert into a subset object\n",
        "  iterable_data = training_data.copy()\n",
        "\n",
        "  # loop through fold dictionary and train and test\n",
        "  for fold_num, indices in folds.items():\n",
        "\n",
        "    train, test = iterable_data.subset(indices[0]), iterable_data.subset(indices[1])\n",
        "\n",
        "    X_train = train.features\n",
        "    y_train = train.labels.ravel()\n",
        "    X_test = test.features\n",
        "    y_test = test.labels.ravel() \n",
        "    #print(X_train.shape, y_train.shape, X_test.shape, y_test.shape )\n",
        "\n",
        "    # define classifier\n",
        "    clf = LogisticRegression(C=reg_strength, solver='liblinear', random_state=1)  \n",
        "\n",
        "    # get training reweights if relevant\n",
        "    if reweighed == False:\n",
        "      sample_weights = None\n",
        "    else:\n",
        "      sample_weights = train_weights[indices[0]]\n",
        "\n",
        "    # train classifier on training data\n",
        "    clf.fit(X_train, y_train, sample_weight=sample_weights)\n",
        "\n",
        "    # get predictions \n",
        "    pred = clf.predict(X_test)\n",
        "\n",
        "    # compute equality of opportunity (fairness) metric\n",
        "    test_pred = test.copy()\n",
        "    test_pred.labels = pred\n",
        "\n",
        "    metric = ClassificationMetric(test, test_pred, unprivileged_groups=unprivileged_groups, privileged_groups=privileged_groups)\n",
        "    eq_op = metric.equal_opportunity_difference()\n",
        "\n",
        "    # append to list\n",
        "    eq_ops.append(eq_op)\n",
        "  \n",
        "  # return the mean and standard deviation of the fairness metrics\n",
        "  return np.mean(eq_ops), np.std(eq_ops)"
      ],
      "metadata": {
        "id": "y4-Hop0rjgv6"
      },
      "execution_count": 18,
      "outputs": []
    },
    {
      "cell_type": "code",
      "source": [
        "def parameter_sweep_fairness(c_s, reweighed=False):\n",
        "\n",
        "  eq_ops = []\n",
        "  stds = []\n",
        "\n",
        "  # loop through C values and perform 5-fold cross validation on training dataset\n",
        "  for c_value in c_s:\n",
        "    if reweighed:\n",
        "      eq_op, std = perform_cross_fold_fairness(folds, train, reg_strength=c_value, train_weights=train.instance_weights, reweighed=True)\n",
        "    else:\n",
        "      eq_op, std = perform_cross_fold_fairness(folds, train, reg_strength=c_value)\n",
        "\n",
        "    eq_ops.append(eq_op)\n",
        "    stds.append(std)\n",
        "\n",
        "  return eq_ops, stds  "
      ],
      "metadata": {
        "id": "VXjYhHXnjje1"
      },
      "execution_count": 19,
      "outputs": []
    },
    {
      "cell_type": "code",
      "source": [
        "# perform hyperparameter sweep\n",
        "eq_ops1, stds_fair1 = parameter_sweep_fairness(c_values)"
      ],
      "metadata": {
        "id": "N_sEd6Pojlor"
      },
      "execution_count": 20,
      "outputs": []
    },
    {
      "cell_type": "code",
      "source": [
        "plot_graph(c_values, eq_ops1, stds_fair1, 'fairness', 'Adult')"
      ],
      "metadata": {
        "colab": {
          "base_uri": "https://localhost:8080/",
          "height": 299
        },
        "id": "MEbWVbu8jnOA",
        "outputId": "34542c93-c51b-4dd9-85b1-1b3698d3726c"
      },
      "execution_count": 21,
      "outputs": [
        {
          "output_type": "display_data",
          "data": {
            "text/plain": [
              "<Figure size 432x288 with 1 Axes>"
            ],
            "image/png": "[encoded data removed]"
          },
          "metadata": {
            "needs_background": "light"
          }
        }
      ]
    },
    {
      "cell_type": "code",
      "source": [
        "def find_fairness_c_value(equality_of_ops, c_s):\n",
        "  index1 = equality_of_ops.index(min(equality_of_ops, key=abs))\n",
        "  print(min(equality_of_ops, key=abs))\n",
        "  print(f'The index of this best score is {index1}')\n",
        "  best_cs = c_s[index1]\n",
        "  print(f'Therefore, the best C value is {best_cs}')\n",
        "  return best_cs\n",
        "\n",
        "# get the best model\n",
        "best_for_fair1 = find_fairness_c_value(eq_ops1, c_values)\n",
        "print(best_for_fair1)"
      ],
      "metadata": {
        "colab": {
          "base_uri": "https://localhost:8080/"
        },
        "id": "whn5xPrtEYDD",
        "outputId": "8cdbe8e5-4a6b-4426-f58d-a52cdaec1089"
      },
      "execution_count": 22,
      "outputs": [
        {
          "output_type": "stream",
          "name": "stdout",
          "text": [
            "-0.2324529173619491\n",
            "The index of this best score is 16\n",
            "Therefore, the best C value is 6.250551925273976e-06\n",
            "6.250551925273976e-06\n"
          ]
        }
      ]
    },
    {
      "cell_type": "code",
      "source": [
        "# Using above C-value, train and test the selected (fair) model\n",
        "\n",
        "def test_final_model_fairness(best_fair, test, X_train, y_train, X_test, y_test, reweighed=False):\n",
        "  # only fit Classifier on the training data\n",
        "  clf = LogisticRegression(C=best_fair, solver='liblinear', random_state=1)  \n",
        "  if reweighed:\n",
        "    clf.fit(X_train,y_train, sample_weight=train.instance_weights)\n",
        "  else:\n",
        "    clf.fit(X_train,y_train)\n",
        "  # get predictions \n",
        "  pred = clf.predict(X_test)\n",
        "  # compute equality of opportunity (fairness) metric\n",
        "  test_pred = test.copy()\n",
        "  test_pred.labels = pred\n",
        "  metric = ClassificationMetric(test, test_pred, unprivileged_groups=unprivileged_groups, privileged_groups=privileged_groups)\n",
        "  eq_op = metric.equal_opportunity_difference()\n",
        "  print(f'The final equality of opportunity value for this model is {eq_op}')\n",
        "\n",
        "  return eq_op"
      ],
      "metadata": {
        "id": "nZjIJnfgEneE"
      },
      "execution_count": 23,
      "outputs": []
    },
    {
      "cell_type": "code",
      "source": [
        "final_fairness = test_final_model_fairness(best_for_fair1, test, X_train, y_train, X_test, y_test)"
      ],
      "metadata": {
        "colab": {
          "base_uri": "https://localhost:8080/"
        },
        "id": "m7-qXRWIEpnt",
        "outputId": "b7ab2309-c722-479a-81c1-7df120be29a9"
      },
      "execution_count": 24,
      "outputs": [
        {
          "output_type": "stream",
          "name": "stdout",
          "text": [
            "The final equality of opportunity value for this model is -0.24153321836248665\n"
          ]
        }
      ]
    },
    {
      "cell_type": "code",
      "source": [
        "#final_fairness = test_final_model_fairness(0.029470517025518096, test, X_train, y_train, X_test, y_test)"
      ],
      "metadata": {
        "colab": {
          "base_uri": "https://localhost:8080/"
        },
        "id": "KHFYkmhZPNpE",
        "outputId": "a5a3358d-eec8-4190-c7b4-d8e0633565cb"
      },
      "execution_count": 83,
      "outputs": [
        {
          "output_type": "stream",
          "name": "stdout",
          "text": [
            "The final equality of opportunity value for this model is -0.4632554945054945\n"
          ]
        }
      ]
    },
    {
      "cell_type": "markdown",
      "source": [
        "##Step 4. Reweigh the data\n"
      ],
      "metadata": {
        "id": "HkPZn81Yjxp3"
      }
    },
    {
      "cell_type": "code",
      "source": [
        "# transforming the dataset by reweighing.\n",
        "RW = Reweighing(unprivileged_groups=unprivileged_groups, privileged_groups=privileged_groups)\n",
        "\n",
        "# this gives us instance weights\n",
        "train = RW.fit_transform(train)\n",
        "\n",
        "# 4 groups: male 50k+, female 50k+, male < 50k, female < 50k\n",
        "print(\"subgroup weights\", np.unique(train.instance_weights)) "
      ],
      "metadata": {
        "colab": {
          "base_uri": "https://localhost:8080/"
        },
        "id": "Wy8oAgC0j78A",
        "outputId": "0e62afd9-31af-4778-8e8b-ff3256e80cbf"
      },
      "execution_count": 25,
      "outputs": [
        {
          "output_type": "stream",
          "name": "stdout",
          "text": [
            "subgroup weights [0.78875735 0.85514075 1.09270553 2.1493453 ]\n"
          ]
        }
      ]
    },
    {
      "cell_type": "markdown",
      "source": [
        "##Step 5. Accuracy parameter sweep: Reweighed"
      ],
      "metadata": {
        "id": "rh6APOPSkEh0"
      }
    },
    {
      "cell_type": "code",
      "source": [
        "# Rewighed!\n",
        "accs2, stds2 = parameter_sweep_accuracy(c_values, reweighed=True)\n"
      ],
      "metadata": {
        "id": "6VRN0ZWXj9sA"
      },
      "execution_count": 26,
      "outputs": []
    },
    {
      "cell_type": "code",
      "source": [
        "plot_graph(c_values, accs2, stds2, 'accuracy', 'Adult')"
      ],
      "metadata": {
        "colab": {
          "base_uri": "https://localhost:8080/",
          "height": 299
        },
        "id": "1AB-xhDJj_cc",
        "outputId": "25ea045c-12b0-4f44-fca1-cee7b179e35f"
      },
      "execution_count": 27,
      "outputs": [
        {
          "output_type": "display_data",
          "data": {
            "text/plain": [
              "<Figure size 432x288 with 1 Axes>"
            ],
            "image/png": "[encoded data removed]"
          },
          "metadata": {
            "needs_background": "light"
          }
        }
      ]
    },
    {
      "cell_type": "code",
      "source": [
        "best_for_ac2 = find_accuracy_c_value(accs2, c_values)"
      ],
      "metadata": {
        "colab": {
          "base_uri": "https://localhost:8080/"
        },
        "id": "Ni7cJ_x5FVmv",
        "outputId": "adec0970-d754-4b9e-c741-be0b35faab8d"
      },
      "execution_count": 28,
      "outputs": [
        {
          "output_type": "stream",
          "name": "stdout",
          "text": [
            "The maximum accuracy achieved during 5-fold cross-val is 0.7896985173023461\n",
            "The index of this highest score is 18\n",
            "Therefore, the best C value is 0.00010481131341546875\n"
          ]
        }
      ]
    },
    {
      "cell_type": "code",
      "source": [
        "best_accuracy2 = test_final_model_accuracy(best_for_ac2, X_train, y_train, X_test, y_test,reweighed=True)"
      ],
      "metadata": {
        "colab": {
          "base_uri": "https://localhost:8080/"
        },
        "id": "klMOu5iRFSWC",
        "outputId": "fca5f6bb-e9f8-49fa-e65e-aa66178b22db"
      },
      "execution_count": 29,
      "outputs": [
        {
          "output_type": "stream",
          "name": "stdout",
          "text": [
            "The final accuracy for this model is 0.7905548351873336\n"
          ]
        }
      ]
    },
    {
      "cell_type": "code",
      "source": [
        "#best_accuracy2 = test_final_model_accuracy(2.559547922699533e-05, X_train, y_train, X_test, y_test,reweighed=True)"
      ],
      "metadata": {
        "colab": {
          "base_uri": "https://localhost:8080/"
        },
        "id": "WEIUMXJ4Pvzw",
        "outputId": "9270f6d9-4c0f-4efe-ad3a-e24ce6d42b56"
      },
      "execution_count": 85,
      "outputs": [
        {
          "output_type": "stream",
          "name": "stdout",
          "text": [
            "The final accuracy for this model is 0.6366666666666667\n"
          ]
        }
      ]
    },
    {
      "cell_type": "markdown",
      "source": [
        "##Step 6. Fairness parameter sweep: Reweighed"
      ],
      "metadata": {
        "id": "7YskGtCRkILJ"
      }
    },
    {
      "cell_type": "code",
      "source": [
        "eq_ops2, stds_fair2 = parameter_sweep_fairness(c_values, reweighed=True)"
      ],
      "metadata": {
        "id": "FxAJ1V_lkNOX"
      },
      "execution_count": 30,
      "outputs": []
    },
    {
      "cell_type": "code",
      "source": [
        "plot_graph(c_values, eq_ops2, stds_fair2, 'fairness', 'Adult')"
      ],
      "metadata": {
        "colab": {
          "base_uri": "https://localhost:8080/",
          "height": 299
        },
        "id": "qvBGyod_kQCY",
        "outputId": "aba975be-68f4-4092-b3ea-f9156fe7c118"
      },
      "execution_count": 31,
      "outputs": [
        {
          "output_type": "display_data",
          "data": {
            "text/plain": [
              "<Figure size 432x288 with 1 Axes>"
            ],
            "image/png": "[encoded data removed]"
          },
          "metadata": {
            "needs_background": "light"
          }
        }
      ]
    },
    {
      "cell_type": "code",
      "source": [
        "best_for_fair2 = find_fairness_c_value(eq_ops2, c_values)"
      ],
      "metadata": {
        "id": "JSKBgP7qnd-9",
        "colab": {
          "base_uri": "https://localhost:8080/"
        },
        "outputId": "75ae7c60-c842-41f9-e61c-f685553b1b42"
      },
      "execution_count": 32,
      "outputs": [
        {
          "output_type": "stream",
          "name": "stdout",
          "text": [
            "-0.00035721253218468085\n",
            "The index of this best score is 17\n",
            "Therefore, the best C value is 2.559547922699533e-05\n"
          ]
        }
      ]
    },
    {
      "cell_type": "code",
      "source": [
        "final_fairness2 = test_final_model_fairness(best_for_fair2, test, X_train, y_train, X_test, y_test,reweighed=True)"
      ],
      "metadata": {
        "id": "QyPxp01Bkene",
        "colab": {
          "base_uri": "https://localhost:8080/"
        },
        "outputId": "5050d81d-edba-48cb-eff9-6b1f1499b647"
      },
      "execution_count": 33,
      "outputs": [
        {
          "output_type": "stream",
          "name": "stdout",
          "text": [
            "The final equality of opportunity value for this model is 0.035579370945224564\n"
          ]
        }
      ]
    },
    {
      "cell_type": "code",
      "source": [
        "#final_fairness2 = test_final_model_fairness(0.00010481131341546875, test, X_train, y_train, X_test, y_test,reweighed=True)"
      ],
      "metadata": {
        "id": "400F6jglkeqU",
        "colab": {
          "base_uri": "https://localhost:8080/"
        },
        "outputId": "b7361ade-81bd-4061-c1f4-52db186b2da3"
      },
      "execution_count": 84,
      "outputs": [
        {
          "output_type": "stream",
          "name": "stdout",
          "text": [
            "The final equality of opportunity value for this model is -0.15521978021978022\n"
          ]
        }
      ]
    },
    {
      "cell_type": "code",
      "source": [
        ""
      ],
      "metadata": {
        "id": "M3ctclp2ke0M"
      },
      "execution_count": 33,
      "outputs": []
    },
    {
      "cell_type": "code",
      "source": [
        ""
      ],
      "metadata": {
        "id": "R8MeVyZ6ke57"
      },
      "execution_count": 33,
      "outputs": []
    },
    {
      "cell_type": "code",
      "source": [
        ""
      ],
      "metadata": {
        "id": "Js_WGMhuke-2"
      },
      "execution_count": 33,
      "outputs": []
    },
    {
      "cell_type": "code",
      "source": [
        ""
      ],
      "metadata": {
        "id": "P-FcuZZEkfDI"
      },
      "execution_count": 33,
      "outputs": []
    },
    {
      "cell_type": "code",
      "source": [
        ""
      ],
      "metadata": {
        "id": "ykBXAzJbkfGU"
      },
      "execution_count": 33,
      "outputs": []
    },
    {
      "cell_type": "markdown",
      "source": [
        "#GERMAN\n",
        "\n",
        "##Step 1. Prepare the dataset"
      ],
      "metadata": {
        "id": "869-ZIWmkT6q"
      }
    },
    {
      "cell_type": "code",
      "source": [
        "# label the sensitive feature to be investigated\n",
        "privileged_groups = [{'age': 1}]\n",
        "unprivileged_groups = [{'age': 0}]\n",
        "\n",
        "# load in the dataset\n",
        "dataset_orig = load_preproc_data_german(['age'])\n",
        "\n",
        "# split training and test data\n",
        "train, test = dataset_orig.split([0.7], shuffle=True)\n",
        "\n",
        "# normalise dataset\n",
        "ss = StandardScaler()\n",
        "# try actually normalising the whole 'train' and 'test' dataset objects\n",
        "train.features = ss.fit_transform(train.features)\n",
        "X_train = train.features\n",
        "y_train = train.labels.ravel()\n",
        "test.features = ss.transform(test.features) \n",
        "X_test = test.features\n",
        "y_test = test.labels.ravel()"
      ],
      "metadata": {
        "id": "LlB8ci6QkbUT"
      },
      "execution_count": 34,
      "outputs": []
    },
    {
      "cell_type": "code",
      "source": [
        "# create folds dict\n",
        "folds = get_folds(X_train)"
      ],
      "metadata": {
        "id": "3SrpzjNNmOlC"
      },
      "execution_count": 35,
      "outputs": []
    },
    {
      "cell_type": "markdown",
      "source": [
        "##Step 2. Accuracy parameter sweep"
      ],
      "metadata": {
        "id": "29ovdpaHmc23"
      }
    },
    {
      "cell_type": "code",
      "source": [
        "# perform hyperparameter sweep over reg strengths\n",
        "accs1_G, stds1_G = parameter_sweep_accuracy(c_values)"
      ],
      "metadata": {
        "id": "chIR-Pl2mag9"
      },
      "execution_count": 36,
      "outputs": []
    },
    {
      "cell_type": "code",
      "source": [
        "plot_graph(c_values, accs1_G, stds1_G, 'accuracy', 'German')"
      ],
      "metadata": {
        "colab": {
          "base_uri": "https://localhost:8080/",
          "height": 299
        },
        "id": "YmPB3XWOmqvg",
        "outputId": "5ebb61d8-9b0f-4621-e8b0-b549adb564a1"
      },
      "execution_count": 37,
      "outputs": [
        {
          "output_type": "display_data",
          "data": {
            "text/plain": [
              "<Figure size 432x288 with 1 Axes>"
            ],
            "image/png": "[encoded data removed]"
          },
          "metadata": {
            "needs_background": "light"
          }
        }
      ]
    },
    {
      "cell_type": "code",
      "source": [
        "best_for_ac1_G = find_accuracy_c_value(accs1_G, c_values)\n",
        "best_accuracy1_G = test_final_model_accuracy(best_for_ac1_G, X_train, y_train, X_test, y_test)"
      ],
      "metadata": {
        "colab": {
          "base_uri": "https://localhost:8080/"
        },
        "id": "7Iy7O7FmGTRF",
        "outputId": "3e6a2a56-53a6-4a84-f101-5215281cd4be"
      },
      "execution_count": 38,
      "outputs": [
        {
          "output_type": "stream",
          "name": "stdout",
          "text": [
            "The maximum accuracy achieved during 5-fold cross-val is 0.6957142857142857\n",
            "The index of this highest score is 22\n",
            "Therefore, the best C value is 0.029470517025518096\n",
            "The final accuracy for this model is 0.7033333333333334\n"
          ]
        }
      ]
    },
    {
      "cell_type": "code",
      "source": [
        "#best_accuracy1_G = test_final_model_accuracy(0.029470517025518096, X_train, y_train, X_test, y_test)"
      ],
      "metadata": {
        "colab": {
          "base_uri": "https://localhost:8080/"
        },
        "id": "0SXi1c6yP8HA",
        "outputId": "ae88a342-1e86-46ab-e7ae-68fccd2c0088"
      },
      "execution_count": 86,
      "outputs": [
        {
          "output_type": "stream",
          "name": "stdout",
          "text": [
            "The final accuracy for this model is 0.7033333333333334\n"
          ]
        }
      ]
    },
    {
      "cell_type": "markdown",
      "source": [
        "##Step 3. Fairness parameter sweep \n"
      ],
      "metadata": {
        "id": "Z0J5MeZ5mym5"
      }
    },
    {
      "cell_type": "code",
      "source": [
        "# perform hyperparameter sweep\n",
        "eq_ops1_G, stds_fair1_G = parameter_sweep_fairness(c_values)"
      ],
      "metadata": {
        "id": "jAuijXrzm1gr"
      },
      "execution_count": 39,
      "outputs": []
    },
    {
      "cell_type": "code",
      "source": [
        "plot_graph(c_values, eq_ops1_G, stds_fair1_G, 'fairness', 'German')"
      ],
      "metadata": {
        "colab": {
          "base_uri": "https://localhost:8080/",
          "height": 299
        },
        "id": "UhURc5X-m7do",
        "outputId": "576234e1-dbbd-42e4-99bc-eb14af529966"
      },
      "execution_count": 40,
      "outputs": [
        {
          "output_type": "display_data",
          "data": {
            "text/plain": [
              "<Figure size 432x288 with 1 Axes>"
            ],
            "image/png": "[encoded data removed]"
          },
          "metadata": {
            "needs_background": "light"
          }
        }
      ]
    },
    {
      "cell_type": "code",
      "source": [
        "best_for_fair1_G = find_fairness_c_value(eq_ops1_G, c_values)\n",
        "final_fairness1_G = test_final_model_fairness(best_for_fair1_G, test, X_train, y_train, X_test, y_test)"
      ],
      "metadata": {
        "colab": {
          "base_uri": "https://localhost:8080/"
        },
        "id": "erz97YCAGd0E",
        "outputId": "eb381318-b09f-4be0-e83d-b192a93b93c4"
      },
      "execution_count": 41,
      "outputs": [
        {
          "output_type": "stream",
          "name": "stdout",
          "text": [
            "-0.33646940627430644\n",
            "The index of this best score is 22\n",
            "Therefore, the best C value is 0.029470517025518096\n",
            "The final equality of opportunity value for this model is -0.4632554945054945\n"
          ]
        }
      ]
    },
    {
      "cell_type": "code",
      "source": [
        "#final_fairness1_G = test_final_model_fairness(0.029470517025518096, test, X_train, y_train, X_test, y_test)"
      ],
      "metadata": {
        "colab": {
          "base_uri": "https://localhost:8080/"
        },
        "id": "fqvWnzREQJKM",
        "outputId": "e41af266-4533-4deb-9961-b6493f633bd1"
      },
      "execution_count": 87,
      "outputs": [
        {
          "output_type": "stream",
          "name": "stdout",
          "text": [
            "The final equality of opportunity value for this model is -0.4632554945054945\n"
          ]
        }
      ]
    },
    {
      "cell_type": "markdown",
      "source": [
        "##Step 4. Reweigh"
      ],
      "metadata": {
        "id": "nBFBQNVKnApI"
      }
    },
    {
      "cell_type": "code",
      "source": [
        "# transforming the dataset by reweighing.\n",
        "RW = Reweighing(unprivileged_groups=unprivileged_groups, privileged_groups=privileged_groups)\n",
        "\n",
        "# this gives us instance weights\n",
        "train = RW.fit_transform(train)\n",
        "\n",
        "# 4 groups: male 50k+, female 50k+, male < 50k, female < 50k\n",
        "print(\"subgroup weights\", np.unique(train.instance_weights)) "
      ],
      "metadata": {
        "colab": {
          "base_uri": "https://localhost:8080/"
        },
        "id": "Um9AFxVUnFMs",
        "outputId": "7872d4fc-3250-4c2e-aa7e-859eafb0a26a"
      },
      "execution_count": 42,
      "outputs": [
        {
          "output_type": "stream",
          "name": "stdout",
          "text": [
            "subgroup weights [0.71684729 0.9597479  1.10527473 1.21054945]\n"
          ]
        }
      ]
    },
    {
      "cell_type": "markdown",
      "source": [
        "##Step 5. Accuracy parameter sweep: reweighed"
      ],
      "metadata": {
        "id": "xPfopYgWnIyb"
      }
    },
    {
      "cell_type": "code",
      "source": [
        "# Rewighed!\n",
        "accs2_G, stds2_G = parameter_sweep_accuracy(c_values, reweighed=True)\n"
      ],
      "metadata": {
        "id": "9swnyY48nIPQ"
      },
      "execution_count": 43,
      "outputs": []
    },
    {
      "cell_type": "code",
      "source": [
        "plot_graph(c_values, accs2_G, stds2_G, 'accuracy', 'German')"
      ],
      "metadata": {
        "colab": {
          "base_uri": "https://localhost:8080/",
          "height": 299
        },
        "id": "tE8Kf1brnSXN",
        "outputId": "d3d4e8d9-d26a-46b0-d862-02b239b92417"
      },
      "execution_count": 44,
      "outputs": [
        {
          "output_type": "display_data",
          "data": {
            "text/plain": [
              "<Figure size 432x288 with 1 Axes>"
            ],
            "image/png": "[encoded data removed]"
          },
          "metadata": {
            "needs_background": "light"
          }
        }
      ]
    },
    {
      "cell_type": "code",
      "source": [
        "best_for_ac2_G = find_accuracy_c_value(accs2_G, c_values)\n",
        "best_accuracy2_G = test_final_model_accuracy(best_for_ac2_G, X_train, y_train, X_test, y_test,reweighed=True)"
      ],
      "metadata": {
        "colab": {
          "base_uri": "https://localhost:8080/"
        },
        "id": "ZxgvcjpEGvC1",
        "outputId": "dee5da6f-c02f-424e-adf8-9b9ba7bf0342"
      },
      "execution_count": 45,
      "outputs": [
        {
          "output_type": "stream",
          "name": "stdout",
          "text": [
            "The maximum accuracy achieved during 5-fold cross-val is 0.6928571428571428\n",
            "The index of this highest score is 21\n",
            "Therefore, the best C value is 0.007196856730011528\n",
            "The final accuracy for this model is 0.68\n"
          ]
        }
      ]
    },
    {
      "cell_type": "code",
      "source": [
        "#best_accuracy2_G = test_final_model_accuracy(0.029470517025518096, X_train, y_train, X_test, y_test,reweighed=True)"
      ],
      "metadata": {
        "colab": {
          "base_uri": "https://localhost:8080/"
        },
        "id": "8toCqNC6Q2wt",
        "outputId": "24175ebc-5e51-43d9-bd6c-daaa582290a0"
      },
      "execution_count": 89,
      "outputs": [
        {
          "output_type": "stream",
          "name": "stdout",
          "text": [
            "The final accuracy for this model is 0.68\n"
          ]
        }
      ]
    },
    {
      "cell_type": "markdown",
      "source": [
        "##Step 6. Fairness parameter sweep: Reweighed"
      ],
      "metadata": {
        "id": "X8R1JmQInV51"
      }
    },
    {
      "cell_type": "code",
      "source": [
        "eq_ops2_G, stds_fair2_G = parameter_sweep_fairness(c_values, reweighed=True)"
      ],
      "metadata": {
        "id": "aFOH3yxCnaQb"
      },
      "execution_count": 46,
      "outputs": []
    },
    {
      "cell_type": "code",
      "source": [
        "plot_graph(c_values, eq_ops2_G, stds_fair2_G, 'fairness', 'German')"
      ],
      "metadata": {
        "colab": {
          "base_uri": "https://localhost:8080/",
          "height": 299
        },
        "id": "qmB9Cr0kngKy",
        "outputId": "a6412c9f-3b94-43c4-a964-d3809bfe4673"
      },
      "execution_count": 47,
      "outputs": [
        {
          "output_type": "display_data",
          "data": {
            "text/plain": [
              "<Figure size 432x288 with 1 Axes>"
            ],
            "image/png": "[encoded data removed]"
          },
          "metadata": {
            "needs_background": "light"
          }
        }
      ]
    },
    {
      "cell_type": "code",
      "source": [
        "best_for_fair2_G = find_fairness_c_value(eq_ops2_G, c_values)\n",
        "final_fairness2_G = test_final_model_fairness(best_for_fair2_G, test, X_train, y_train, X_test, y_test,reweighed=True)"
      ],
      "metadata": {
        "colab": {
          "base_uri": "https://localhost:8080/"
        },
        "id": "GZhm_7_WG1Ic",
        "outputId": "8eff6132-5eb6-4210-9997-e35526ef5bba"
      },
      "execution_count": 48,
      "outputs": [
        {
          "output_type": "stream",
          "name": "stdout",
          "text": [
            "0.050281034642801134\n",
            "The index of this best score is 22\n",
            "Therefore, the best C value is 0.029470517025518096\n",
            "The final equality of opportunity value for this model is 0.08241758241758246\n"
          ]
        }
      ]
    },
    {
      "cell_type": "code",
      "source": [
        "#final_fairness2_G = test_final_model_fairness(0.007196856730011528, test, X_train, y_train, X_test, y_test,reweighed=True)"
      ],
      "metadata": {
        "id": "e1p7XpQWnqZR",
        "colab": {
          "base_uri": "https://localhost:8080/"
        },
        "outputId": "5e80fa67-4712-49d0-a4ef-365683b1f049"
      },
      "execution_count": 88,
      "outputs": [
        {
          "output_type": "stream",
          "name": "stdout",
          "text": [
            "The final equality of opportunity value for this model is 0.08241758241758246\n"
          ]
        }
      ]
    },
    {
      "cell_type": "code",
      "source": [
        ""
      ],
      "metadata": {
        "id": "kloSNssznqb5"
      },
      "execution_count": 48,
      "outputs": []
    },
    {
      "cell_type": "code",
      "source": [
        ""
      ],
      "metadata": {
        "id": "VRJjgOTynqe6"
      },
      "execution_count": 48,
      "outputs": []
    },
    {
      "cell_type": "code",
      "source": [
        ""
      ],
      "metadata": {
        "id": "k4sJjvrWnqh_"
      },
      "execution_count": 48,
      "outputs": []
    },
    {
      "cell_type": "markdown",
      "source": [
        "# Plot German and Adult together"
      ],
      "metadata": {
        "id": "qNQkPg90nrRE"
      }
    },
    {
      "cell_type": "code",
      "source": [
        "# plot adult\n",
        "#plt.scatter(np.log10(c_values), accs1, label='Adult' )\n",
        "plt.errorbar(np.log10(c_values), accs1, yerr = stds1, fmt='.', ecolor = 'magenta', color='black', label='Adult')\n",
        "\n",
        "#plot german\n",
        "#plt.scatter(np.log10(c_values), accs1, label='German')\n",
        "plt.errorbar(np.log10(c_values), accs1_G, yerr = stds1_G, fmt='.', ecolor = 'cyan', color='blue', label='German')\n",
        "\n",
        "plt.title('Effect of regularisation strength on accuracy: standard model')\n",
        "\n",
        "\n",
        "# C is the inverse of regularization strength\n",
        "plt.xlabel(\" $Log_{10}$(C)\")\n",
        "plt.ylabel(\"Accuracy\")\n",
        "plt.legend()\n",
        "plt.show()  "
      ],
      "metadata": {
        "colab": {
          "base_uri": "https://localhost:8080/",
          "height": 299
        },
        "id": "18izZeeknvYf",
        "outputId": "16df99ab-41b5-4ad2-9e83-f5fd01ae18ba"
      },
      "execution_count": 49,
      "outputs": [
        {
          "output_type": "display_data",
          "data": {
            "text/plain": [
              "<Figure size 432x288 with 1 Axes>"
            ],
            "image/png": "[encoded data removed]"
          },
          "metadata": {
            "needs_background": "light"
          }
        }
      ]
    },
    {
      "cell_type": "code",
      "source": [
        "# plot adult\n",
        "#plt.scatter(np.log10(c_values), accs1, label='Adult' )\n",
        "plt.errorbar(np.log10(c_values), eq_ops1, yerr = stds_fair1, fmt='.', ecolor = 'magenta', color='black', label='Adult')\n",
        "\n",
        "#plot german\n",
        "#plt.scatter(np.log10(c_values), accs1, label='German')\n",
        "plt.errorbar(np.log10(c_values), eq_ops1_G, yerr = stds_fair1_G, fmt='.', ecolor = 'cyan', color='blue', label='German')\n",
        "\n",
        "plt.title('Effect of regularisation strength on fairness: standard model')\n",
        "\n",
        "\n",
        "# C is the inverse of regularization strength\n",
        "plt.xlabel(\" $Log_{10}$(C)\")\n",
        "plt.ylabel(\"Equality of Opportunity\")\n",
        "plt.ylim(-0.6,0)\n",
        "plt.legend()\n",
        "plt.show() "
      ],
      "metadata": {
        "colab": {
          "base_uri": "https://localhost:8080/",
          "height": 299
        },
        "id": "DkKgLVKmqQEk",
        "outputId": "d521f179-468a-4bb0-c3ae-afc266ae8f6f"
      },
      "execution_count": 50,
      "outputs": [
        {
          "output_type": "display_data",
          "data": {
            "text/plain": [
              "<Figure size 432x288 with 1 Axes>"
            ],
            "image/png": "[encoded data removed]"
          },
          "metadata": {
            "needs_background": "light"
          }
        }
      ]
    },
    {
      "cell_type": "code",
      "source": [
        "# plot adult\n",
        "#plt.scatter(np.log10(c_values), accs1, label='Adult' )\n",
        "plt.errorbar(np.log10(c_values), accs2, yerr = stds2, fmt='.', ecolor = 'magenta', color='black', label='Adult')\n",
        "\n",
        "#plot german\n",
        "#plt.scatter(np.log10(c_values), accs1, label='German')\n",
        "plt.errorbar(np.log10(c_values), accs2_G, yerr = stds2_G, fmt='.', ecolor = 'cyan', color='blue', label='German')\n",
        "\n",
        "plt.title('Effect of regularisation strength on accuracy: fairness-based model')\n",
        "\n",
        "\n",
        "# C is the inverse of regularization strength\n",
        "plt.xlabel(\" $Log_{10}$(C)\")\n",
        "plt.ylabel(\"Accuracy\")\n",
        "plt.legend()\n",
        "plt.show() "
      ],
      "metadata": {
        "colab": {
          "base_uri": "https://localhost:8080/",
          "height": 299
        },
        "id": "SWOEOJ5CqCzn",
        "outputId": "9903303a-62fb-4d0d-fb28-4620095de372"
      },
      "execution_count": 51,
      "outputs": [
        {
          "output_type": "display_data",
          "data": {
            "text/plain": [
              "<Figure size 432x288 with 1 Axes>"
            ],
            "image/png": "[encoded data removed]"
          },
          "metadata": {
            "needs_background": "light"
          }
        }
      ]
    },
    {
      "cell_type": "code",
      "source": [
        "# plot adult\n",
        "#plt.scatter(np.log10(c_values), accs1, label='Adult' )\n",
        "plt.errorbar(np.log10(c_values), eq_ops2, yerr = stds_fair2, fmt='.', ecolor = 'magenta', color='black', label='Adult')\n",
        "\n",
        "#plot german\n",
        "#plt.scatter(np.log10(c_values), accs1, label='German')\n",
        "plt.errorbar(np.log10(c_values), eq_ops2_G, yerr = stds_fair2_G, fmt='.', ecolor = 'cyan', color='blue', label='German')\n",
        "\n",
        "plt.title('Effect of regularisation strength on fairness: fairness-based model')\n",
        "\n",
        "\n",
        "# C is the inverse of regularization strength\n",
        "plt.xlabel(\" $Log_{10}$(C)\")\n",
        "plt.ylabel(\"Equality of Opportunity\")\n",
        "plt.legend(loc='lower right')\n",
        "plt.show() "
      ],
      "metadata": {
        "colab": {
          "base_uri": "https://localhost:8080/",
          "height": 299
        },
        "id": "sJIisE7HrFGk",
        "outputId": "e39fe54a-616f-4ace-ae32-9311a529bf7a"
      },
      "execution_count": 52,
      "outputs": [
        {
          "output_type": "display_data",
          "data": {
            "text/plain": [
              "<Figure size 432x288 with 1 Axes>"
            ],
            "image/png": "[encoded data removed]"
          },
          "metadata": {
            "needs_background": "light"
          }
        }
      ]
    },
    {
      "cell_type": "code",
      "source": [
        ""
      ],
      "metadata": {
        "id": "UEOr5YHzrxgf"
      },
      "execution_count": 52,
      "outputs": []
    },
    {
      "cell_type": "code",
      "source": [
        "# plot accuracy against fairness for a given c value\n",
        "\n",
        "plt.plot(eq_ops1, accs1, 'x')\n",
        "plt.xlim(-0.5, 0.1)\n",
        "plt.ylabel('Accuracy')\n",
        "plt.xlabel('Equality of opportunity')\n",
        "plt.title('Standard model')\n",
        "plt.show()\n",
        "\n",
        "plt.plot(eq_ops2, accs2, 'x')\n",
        "plt.xlim(-0.5, 0.1)\n",
        "plt.ylabel('Accuracy')\n",
        "plt.xlabel('Equality of opportunity')\n",
        "plt.title('Fairness-based model')\n",
        "plt.show()\n",
        "\n",
        "plt.plot(eq_ops1_G, accs1_G, 'x')\n",
        "plt.xlim(-0.5, 0.1)\n",
        "plt.ylabel('Accuracy')\n",
        "plt.xlabel('Equality of opportunity')\n",
        "plt.show()\n",
        "\n",
        "plt.plot(eq_ops2_G,accs2_G, 'x')\n",
        "plt.xlim(-0.5, 0.1)\n",
        "plt.ylabel('Accuracy')\n",
        "plt.xlabel('Equality of opportunity')\n",
        "plt.show()\n"
      ],
      "metadata": {
        "colab": {
          "base_uri": "https://localhost:8080/",
          "height": 1000
        },
        "id": "Yn18vJ1exaR6",
        "outputId": "cc9d7036-3084-4349-ba5c-ab0366f89cc3"
      },
      "execution_count": 53,
      "outputs": [
        {
          "output_type": "display_data",
          "data": {
            "text/plain": [
              "<Figure size 432x288 with 1 Axes>"
            ],
            "image/png": "[encoded data removed]"
          },
          "metadata": {
            "needs_background": "light"
          }
        },
        {
          "output_type": "display_data",
          "data": {
            "text/plain": [
              "<Figure size 432x288 with 1 Axes>"
            ],
            "image/png": "[encoded data removed]"
          },
          "metadata": {
            "needs_background": "light"
          }
        },
        {
          "output_type": "display_data",
          "data": {
            "text/plain": [
              "<Figure size 432x288 with 1 Axes>"
            ],
            "image/png": "[encoded data removed]"
          },
          "metadata": {
            "needs_background": "light"
          }
        },
        {
          "output_type": "display_data",
          "data": {
            "text/plain": [
              "<Figure size 432x288 with 1 Axes>"
            ],
            "image/png": "[encoded data removed]"
          },
          "metadata": {
            "needs_background": "light"
          }
        }
      ]
    },
    {
      "cell_type": "code",
      "source": [
        ""
      ],
      "metadata": {
        "id": "HXJ1lA0NxaWZ"
      },
      "execution_count": 53,
      "outputs": []
    },
    {
      "cell_type": "code",
      "source": [
        ""
      ],
      "metadata": {
        "id": "5WjM9WDExaYi"
      },
      "execution_count": 53,
      "outputs": []
    },
    {
      "cell_type": "code",
      "source": [
        ""
      ],
      "metadata": {
        "id": "APvNsrvYxaal"
      },
      "execution_count": 53,
      "outputs": []
    },
    {
      "cell_type": "code",
      "source": [
        ""
      ],
      "metadata": {
        "id": "cfd5w3woxac8"
      },
      "execution_count": 53,
      "outputs": []
    },
    {
      "cell_type": "code",
      "source": [
        ""
      ],
      "metadata": {
        "id": "DgM44bLWxaew"
      },
      "execution_count": 53,
      "outputs": []
    },
    {
      "cell_type": "code",
      "source": [
        ""
      ],
      "metadata": {
        "id": "ZY5XEAgExaf6"
      },
      "execution_count": 53,
      "outputs": []
    },
    {
      "cell_type": "code",
      "source": [
        "def accurate_fair_combined_NONGLOBAL(accuracies, eq_opportunities):\n",
        "\n",
        "  # normalise accuracy data\n",
        "  accs_norm = np.array(accuracies)\n",
        "  accs_norm = accs_norm - np.amin(accs_norm)\n",
        "  accs_norm = accs_norm / (np.amax(accs_norm)-np.amin(accs_norm))\n",
        "  #accs_norm = accs_norm / (np.amax(accs_norm)-0)\n",
        "  accs_norm = 1 - accs_norm\n",
        "  \n",
        "  # normalise fairness data\n",
        "  eq_ops_norm = np.array(eq_opportunities)\n",
        "  eq_ops_norm = np.abs(eq_ops_norm)\n",
        "  eq_ops_norm = eq_ops_norm - np.min(eq_ops_norm)\n",
        "  eq_ops_norm = eq_ops_norm / (np.max(eq_ops_norm)-np.min(eq_ops_norm))\n",
        "\n",
        "  fair_and_ac = accs_norm + eq_ops_norm\n",
        "\n",
        "  # do I normalise the output too?!! How do I make it comparable between datasets / standard vs fair?\n",
        "  #fair_and_ac = fair_and_ac - np.min(fair_and_ac)\n",
        "  #fair_and_ac = fair_and_ac / (np.max(fair_and_ac)- np.min(fair_and_ac))\n",
        "\n",
        "  return fair_and_ac, np.std(fair_and_ac)\n"
      ],
      "metadata": {
        "id": "6bIe2KPhrxjg"
      },
      "execution_count": 54,
      "outputs": []
    },
    {
      "cell_type": "code",
      "source": [
        "def accurate_fair_combined(accuracies, eq_opportunities, accuracies2, eq_opportunities2):\n",
        "\n",
        "  # find global max range\n",
        "  accs_norm = np.array(accuracies)\n",
        "  accs_norm2 = np.array(accuracies2)\n",
        "\n",
        "  range1 = np.amax(accs_norm)-np.amin(accs_norm)\n",
        "  range2 = np.amax(accs_norm2)-np.amin(accs_norm2)\n",
        "\n",
        "  if range1 > range2:\n",
        "    range = range1\n",
        "    min1 = np.amin(accs_norm)\n",
        "  else:\n",
        "    range = range2\n",
        "    min1 = np.amin(accs_norm2)\n",
        "\n",
        "  eq_ops_norm = np.array(eq_opportunities)\n",
        "  eq_ops_norm2 = np.array(eq_opportunities2)\n",
        "\n",
        "  erange1 = np.amax(eq_ops_norm)-np.amin(eq_ops_norm)\n",
        "  erange2 = np.amax(eq_ops_norm2)-np.amin(eq_ops_norm2)\n",
        "\n",
        "  if erange1 > erange2:\n",
        "    erange = erange1\n",
        "    min2 = np.amin(eq_ops_norm)\n",
        "  else:\n",
        "    erange = erange2\n",
        "    min2 = np.amin(eq_ops_norm2)\n",
        "\n",
        "  # normalise accuracy data\n",
        "  accs_norm = accs_norm - min1\n",
        "  accs_norm = accs_norm / range\n",
        "  accs_norm = 1 - accs_norm\n",
        "  \n",
        "  # normalise fairness data\n",
        "  eq_ops_norm = np.abs(eq_ops_norm)\n",
        "  eq_ops_norm = eq_ops_norm - min2\n",
        "  eq_ops_norm = eq_ops_norm / erange\n",
        "\n",
        "  fair_and_ac = accs_norm + eq_ops_norm\n",
        "\n",
        "  # do I normalise the output too?!! How do I make it comparable between datasets / standard vs fair?\n",
        "  #fair_and_ac = fair_and_ac - np.min(fair_and_ac)\n",
        "  #fair_and_ac = fair_and_ac / (np.max(fair_and_ac)- np.min(fair_and_ac))\n",
        "\n",
        "  return fair_and_ac, np.std(fair_and_ac)"
      ],
      "metadata": {
        "id": "neI1X5iQWlua"
      },
      "execution_count": 55,
      "outputs": []
    },
    {
      "cell_type": "code",
      "source": [
        "fair_and_accurate1, stds_both1 = accurate_fair_combined_NONGLOBAL(accs1, eq_ops1)\n",
        "plot_graph(c_values, fair_and_accurate1, stds_both1, 'both', 'adult')\n",
        "\n",
        "np.where(fair_and_accurate1 == np.min(fair_and_accurate1))"
      ],
      "metadata": {
        "colab": {
          "base_uri": "https://localhost:8080/",
          "height": 316
        },
        "id": "FtAJ3vEZrxmx",
        "outputId": "23739b90-c126-4c3d-e87c-312bc392f1b7"
      },
      "execution_count": 56,
      "outputs": [
        {
          "output_type": "display_data",
          "data": {
            "text/plain": [
              "<Figure size 432x288 with 1 Axes>"
            ],
            "image/png": "[encoded data removed]"
          },
          "metadata": {
            "needs_background": "light"
          }
        },
        {
          "output_type": "execute_result",
          "data": {
            "text/plain": [
              "(array([18]),)"
            ]
          },
          "metadata": {},
          "execution_count": 56
        }
      ]
    },
    {
      "cell_type": "code",
      "source": [
        "fair_and_accurate2, stds_both2 = accurate_fair_combined_NONGLOBAL(accs1_G, eq_ops1_G)\n",
        "plot_graph(c_values, fair_and_accurate2, stds_both2, 'both', 'german')\n",
        "np.where(fair_and_accurate2 == np.min(fair_and_accurate2))"
      ],
      "metadata": {
        "id": "HjI_jI2xrxp2",
        "colab": {
          "base_uri": "https://localhost:8080/",
          "height": 316
        },
        "outputId": "ee451acc-b5b8-4d3f-ed5a-e5fd71f9f9eb"
      },
      "execution_count": 57,
      "outputs": [
        {
          "output_type": "display_data",
          "data": {
            "text/plain": [
              "<Figure size 432x288 with 1 Axes>"
            ],
            "image/png": "[encoded data removed]"
          },
          "metadata": {
            "needs_background": "light"
          }
        },
        {
          "output_type": "execute_result",
          "data": {
            "text/plain": [
              "(array([22]),)"
            ]
          },
          "metadata": {},
          "execution_count": 57
        }
      ]
    },
    {
      "cell_type": "code",
      "source": [
        "fair_and_accurate3, stds_both3 = accurate_fair_combined_NONGLOBAL(accs2, eq_ops2)\n",
        "plot_graph(c_values, fair_and_accurate3, stds_both3, 'both', 'adult')\n",
        "np.where(fair_and_accurate3 == np.min(fair_and_accurate3))\n"
      ],
      "metadata": {
        "id": "zRl7Wdp8SrnY",
        "colab": {
          "base_uri": "https://localhost:8080/",
          "height": 316
        },
        "outputId": "5df1366b-8c58-4be1-c5dc-59b7b0b25cd1"
      },
      "execution_count": 58,
      "outputs": [
        {
          "output_type": "display_data",
          "data": {
            "text/plain": [
              "<Figure size 432x288 with 1 Axes>"
            ],
            "image/png": "[encoded data removed]"
          },
          "metadata": {
            "needs_background": "light"
          }
        },
        {
          "output_type": "execute_result",
          "data": {
            "text/plain": [
              "(array([21]),)"
            ]
          },
          "metadata": {},
          "execution_count": 58
        }
      ]
    },
    {
      "cell_type": "code",
      "source": [
        ""
      ],
      "metadata": {
        "id": "wb189YncQy9l"
      },
      "execution_count": 58,
      "outputs": []
    },
    {
      "cell_type": "code",
      "source": [
        "fair_and_accurate4, stds_both4 = accurate_fair_combined_NONGLOBAL(accs2_G, eq_ops2_G)\n",
        "plot_graph(c_values, fair_and_accurate4, stds_both4, 'both', 'german')\n",
        "np.where(fair_and_accurate4 == np.min(fair_and_accurate4))\n",
        "\n"
      ],
      "metadata": {
        "id": "p2W4HX06QzBw",
        "colab": {
          "base_uri": "https://localhost:8080/",
          "height": 316
        },
        "outputId": "78f40706-b6ae-44f3-a6b7-8b21c5a05ba3"
      },
      "execution_count": 59,
      "outputs": [
        {
          "output_type": "display_data",
          "data": {
            "text/plain": [
              "<Figure size 432x288 with 1 Axes>"
            ],
            "image/png": "[encoded data removed]"
          },
          "metadata": {
            "needs_background": "light"
          }
        },
        {
          "output_type": "execute_result",
          "data": {
            "text/plain": [
              "(array([21]),)"
            ]
          },
          "metadata": {},
          "execution_count": 59
        }
      ]
    },
    {
      "cell_type": "code",
      "source": [
        "plt.plot(np.log10(c_values), fair_and_accurate1, label='adult')\n",
        "plt.plot(np.log10(c_values), fair_and_accurate3, label='rw adult')\n",
        "plt.xlabel(\" $Log_{10}$(C)\")\n",
        "plt.ylabel('Z')\n",
        "plt.legend()\n",
        "plt.show()\n",
        "\n",
        "\n",
        "plt.plot(np.log10(c_values), fair_and_accurate2, label='german')\n",
        "plt.plot(np.log10(c_values), fair_and_accurate4, label='rw german')\n",
        "plt.xlabel(\" $Log_{10}$(C)\")\n",
        "plt.ylabel('Z')\n",
        "plt.legend()\n",
        "plt.show()\n",
        "\n",
        "#plt.plot(np.log10(c_values), fair_and_accurate1, label='adult')\n",
        "#plt.plot(np.log10(c_values), fair_and_accurate2, label='german')\n",
        "#plt.legend()\n",
        "#plt.show()\n",
        "\n",
        "#plt.plot(np.log10(c_values), fair_and_accurate3, label='rw adult')\n",
        "#plt.plot(np.log10(c_values), fair_and_accurate4, label='rw german')\n",
        "#plt.legend()\n",
        "#plt.show()"
      ],
      "metadata": {
        "id": "KbkPinCSTf1U",
        "colab": {
          "base_uri": "https://localhost:8080/",
          "height": 549
        },
        "outputId": "0785703d-9441-4de9-dacb-f17ae98a82c7"
      },
      "execution_count": 60,
      "outputs": [
        {
          "output_type": "display_data",
          "data": {
            "text/plain": [
              "<Figure size 432x288 with 1 Axes>"
            ],
            "image/png": "[encoded data removed]"
          },
          "metadata": {
            "needs_background": "light"
          }
        },
        {
          "output_type": "display_data",
          "data": {
            "text/plain": [
              "<Figure size 432x288 with 1 Axes>"
            ],
            "image/png": "[encoded data removed]"
          },
          "metadata": {
            "needs_background": "light"
          }
        }
      ]
    },
    {
      "cell_type": "code",
      "source": [
        "print(np.min(fair_and_accurate1))\n",
        "print(np.min(fair_and_accurate2))\n",
        "print(np.min(fair_and_accurate3))\n",
        "print(np.min(fair_and_accurate4))"
      ],
      "metadata": {
        "colab": {
          "base_uri": "https://localhost:8080/"
        },
        "id": "4QCyQK-oEeQj",
        "outputId": "08434327-b424-44cc-b25a-6aab01c5e69f"
      },
      "execution_count": 61,
      "outputs": [
        {
          "output_type": "stream",
          "name": "stdout",
          "text": [
            "0.7209350578668351\n",
            "0.0\n",
            "0.6677488252347898\n",
            "0.052228254640853025\n"
          ]
        }
      ]
    },
    {
      "cell_type": "code",
      "source": [
        "print(c_values[18],c_values[22],c_values[21],c_values[21] )"
      ],
      "metadata": {
        "colab": {
          "base_uri": "https://localhost:8080/"
        },
        "id": "lmhtMdCZOEck",
        "outputId": "9cf63cb5-a187-4ef8-a6e9-cb782555e3b2"
      },
      "execution_count": 80,
      "outputs": [
        {
          "output_type": "stream",
          "name": "stdout",
          "text": [
            "0.00010481131341546875 0.029470517025518096 0.007196856730011528 0.007196856730011528\n"
          ]
        }
      ]
    },
    {
      "cell_type": "code",
      "source": [
        "fair_and_accurate1, stds_both1 = accurate_fair_combined(accs1, eq_ops1, accs2, eq_ops2)\n",
        "plot_graph(c_values, fair_and_accurate1, stds_both1, 'both', 'adult')"
      ],
      "metadata": {
        "id": "RK8EPVXfYswN",
        "colab": {
          "base_uri": "https://localhost:8080/",
          "height": 299
        },
        "outputId": "4c747637-08b7-4706-e089-e52d7249abd2"
      },
      "execution_count": 62,
      "outputs": [
        {
          "output_type": "display_data",
          "data": {
            "text/plain": [
              "<Figure size 432x288 with 1 Axes>"
            ],
            "image/png": "[encoded data removed]"
          },
          "metadata": {
            "needs_background": "light"
          }
        }
      ]
    },
    {
      "cell_type": "code",
      "source": [
        "fair_and_accurate2, stds_both2 = accurate_fair_combined(accs1_G, eq_ops1_G, accs2_G, eq_ops2_G)\n",
        "plot_graph(c_values, fair_and_accurate1, stds_both1, 'both', 'adult')"
      ],
      "metadata": {
        "id": "DuLq8JllY6Pe",
        "colab": {
          "base_uri": "https://localhost:8080/",
          "height": 299
        },
        "outputId": "593ee8fc-1e9c-4a2b-844a-83a3744a2b3d"
      },
      "execution_count": 63,
      "outputs": [
        {
          "output_type": "display_data",
          "data": {
            "text/plain": [
              "<Figure size 432x288 with 1 Axes>"
            ],
            "image/png": "[encoded data removed]"
          },
          "metadata": {
            "needs_background": "light"
          }
        }
      ]
    },
    {
      "cell_type": "code",
      "source": [
        "fair_and_accurate3, stds_both1 = accurate_fair_combined(accs2, eq_ops2, accs1, eq_ops1)\n",
        "plot_graph(c_values, fair_and_accurate1, stds_both1, 'both', 'adult')"
      ],
      "metadata": {
        "id": "rhLj32afYsy5",
        "colab": {
          "base_uri": "https://localhost:8080/",
          "height": 299
        },
        "outputId": "d6603baa-5d83-4d16-e6b8-e76bf11eb026"
      },
      "execution_count": 64,
      "outputs": [
        {
          "output_type": "display_data",
          "data": {
            "text/plain": [
              "<Figure size 432x288 with 1 Axes>"
            ],
            "image/png": "[encoded data removed]"
          },
          "metadata": {
            "needs_background": "light"
          }
        }
      ]
    },
    {
      "cell_type": "code",
      "source": [
        "fair_and_accurate4, stds_both1 = accurate_fair_combined(accs2_G, eq_ops2_G, accs1_G, eq_ops1_G)\n",
        "plot_graph(c_values, fair_and_accurate1, stds_both1, 'both', 'adult')"
      ],
      "metadata": {
        "id": "NqYnfXucYs0w",
        "colab": {
          "base_uri": "https://localhost:8080/",
          "height": 299
        },
        "outputId": "22bfaac2-2095-4ec6-b46f-aee65e04d06b"
      },
      "execution_count": 65,
      "outputs": [
        {
          "output_type": "display_data",
          "data": {
            "text/plain": [
              "<Figure size 432x288 with 1 Axes>"
            ],
            "image/png": "[encoded data removed]"
          },
          "metadata": {
            "needs_background": "light"
          }
        }
      ]
    },
    {
      "cell_type": "code",
      "source": [
        ""
      ],
      "metadata": {
        "id": "pigC3cwdYs3G"
      },
      "execution_count": 65,
      "outputs": []
    },
    {
      "cell_type": "code",
      "source": [
        "plt.plot(np.log10(c_values), fair_and_accurate1, label='adult')\n",
        "plt.plot(np.log10(c_values), fair_and_accurate3, label='rw adult')\n",
        "plt.xlabel(\" $Log_{10}$(C)\")\n",
        "plt.ylabel('Z')\n",
        "plt.legend()\n",
        "plt.show()\n",
        "\n",
        "\n",
        "plt.plot(np.log10(c_values), fair_and_accurate2, label='german')\n",
        "plt.plot(np.log10(c_values), fair_and_accurate4, label='rw german')\n",
        "plt.xlabel(\" $Log_{10}$(C)\")\n",
        "plt.ylabel('Z')\n",
        "plt.legend()\n",
        "plt.show()"
      ],
      "metadata": {
        "id": "aFBmA8FKQzGf",
        "colab": {
          "base_uri": "https://localhost:8080/",
          "height": 551
        },
        "outputId": "cdc2d590-ae24-49f9-8ba8-e6297bc1a77f"
      },
      "execution_count": 66,
      "outputs": [
        {
          "output_type": "display_data",
          "data": {
            "text/plain": [
              "<Figure size 432x288 with 1 Axes>"
            ],
            "image/png": "[encoded data removed]"
          },
          "metadata": {
            "needs_background": "light"
          }
        },
        {
          "output_type": "display_data",
          "data": {
            "text/plain": [
              "<Figure size 432x288 with 1 Axes>"
            ],
            "image/png": "[encoded data removed]"
          },
          "metadata": {
            "needs_background": "light"
          }
        }
      ]
    },
    {
      "cell_type": "code",
      "source": [
        "print(np.min(fair_and_accurate1))\n",
        "print(np.min(fair_and_accurate2))\n",
        "print(np.min(fair_and_accurate3))\n",
        "print(np.min(fair_and_accurate4))"
      ],
      "metadata": {
        "colab": {
          "base_uri": "https://localhost:8080/"
        },
        "id": "kGSz8_6yEsN7",
        "outputId": "16ffcafe-268c-4148-c700-3108c1d38514"
      },
      "execution_count": 67,
      "outputs": [
        {
          "output_type": "stream",
          "name": "stdout",
          "text": [
            "3.7129852060651354\n",
            "2.253368133495243\n",
            "3.468551114967607\n",
            "1.1006547847469057\n"
          ]
        }
      ]
    },
    {
      "cell_type": "code",
      "source": [
        "\n",
        "def get_best(faa):\n",
        "  best_both = np.amin(faa)\n",
        "  print(best_both)\n",
        "  # what is the index of this?\n",
        "  index_bb = np.where(faa == best_both)\n",
        "  print(index_bb[0][0])\n",
        "  print(c_values[index_bb][0])\n",
        "  return c_values[index_bb]\n",
        "\n",
        "c1 = get_best(fair_and_accurate1)\n",
        "c2 = get_best(fair_and_accurate2)\n",
        "c3 = get_best(fair_and_accurate3)\n",
        "c4 = get_best(fair_and_accurate4)\n",
        "\n"
      ],
      "metadata": {
        "id": "8G5-O3c896DT",
        "colab": {
          "base_uri": "https://localhost:8080/"
        },
        "outputId": "863cd864-a6ad-4668-c51c-0b6dd89d7479"
      },
      "execution_count": 68,
      "outputs": [
        {
          "output_type": "stream",
          "name": "stdout",
          "text": [
            "3.7129852060651354\n",
            "18\n",
            "0.00010481131341546875\n",
            "2.253368133495243\n",
            "22\n",
            "0.029470517025518096\n",
            "3.468551114967607\n",
            "18\n",
            "0.00010481131341546875\n",
            "1.1006547847469057\n",
            "21\n",
            "0.007196856730011528\n"
          ]
        }
      ]
    },
    {
      "cell_type": "code",
      "source": [
        ""
      ],
      "metadata": {
        "id": "dnHhI-DyB1QK"
      },
      "execution_count": 70,
      "outputs": []
    },
    {
      "cell_type": "code",
      "source": [
        ""
      ],
      "metadata": {
        "id": "1jn_foCZB1Ul"
      },
      "execution_count": 71,
      "outputs": []
    },
    {
      "cell_type": "code",
      "source": [
        ""
      ],
      "metadata": {
        "id": "ICOBa33iQzR_"
      },
      "execution_count": 71,
      "outputs": []
    },
    {
      "cell_type": "markdown",
      "source": [
        "#Plot normalised accuracy and fairness"
      ],
      "metadata": {
        "id": "d3j_ZWBAryu1"
      }
    },
    {
      "cell_type": "code",
      "source": [
        "# normalise data\n",
        "\n",
        "accs1_norm = np.array(accs1)\n",
        "accs1_norm = accs1_norm - np.amin(accs1_norm)\n",
        "accs1_norm = accs1_norm / (max(accs1)-min(accs1))\n",
        "\n",
        "\n",
        "\n",
        "eq_ops1_norm = np.array(eq_ops1)\n",
        "eq_ops1_norm = eq_ops1_norm - np.amin(eq_ops1_norm)\n",
        "eq_ops1_norm = eq_ops1_norm / (max(eq_ops1)-min(eq_ops1))\n"
      ],
      "metadata": {
        "id": "IcZp78RJr5t-"
      },
      "execution_count": 72,
      "outputs": []
    },
    {
      "cell_type": "code",
      "source": [
        "# plot adult\n",
        "plt.scatter(np.log10(c_values), accs1_norm, label='Accuracy' )\n",
        "#plt.errorbar(np.log10(c_values), accs1_norm, yerr = stds1, fmt='.', ecolor = 'cyan', color='black', label='Adult')\n",
        "\n",
        "#plot german\n",
        "plt.scatter(np.log10(c_values), eq_ops1_norm, label='Fairness')\n",
        "#plt.errorbar(np.log10(c_values), accs1_G, yerr = stds1_G, fmt='.', ecolor = 'cyan', color='blue', label='German')\n",
        "\n",
        "plt.title('Effect of regularisation strength on normalised accuracy\\n and fairness: standard model')\n",
        "\n",
        "\n",
        "# C is the inverse of regularization strength\n",
        "plt.xlabel(\" $Log_{10}$(C)\")\n",
        "plt.ylabel(\"Normalised performance\")\n",
        "plt.legend(loc='best')\n",
        "plt.show()  "
      ],
      "metadata": {
        "id": "Z1QldL2cr2Ke",
        "colab": {
          "base_uri": "https://localhost:8080/",
          "height": 0
        },
        "outputId": "07d4a7c6-1eba-45b5-e29f-f35d380403b0"
      },
      "execution_count": 73,
      "outputs": [
        {
          "output_type": "display_data",
          "data": {
            "text/plain": [
              "<Figure size 432x288 with 1 Axes>"
            ],
            "image/png": "[encoded data removed]"
          },
          "metadata": {
            "needs_background": "light"
          }
        }
      ]
    },
    {
      "cell_type": "code",
      "source": [
        "# reweighed\n",
        "\n",
        "# normalise data\n",
        "\n",
        "accs2_norm = np.array(accs2)\n",
        "\n",
        "accs2_norm = accs2_norm - np.amin(accs2_norm)\n",
        "\n",
        "accs2_norm = accs2_norm / (max(accs2)-min(accs2))\n",
        "\n",
        "\n",
        "\n",
        "eq_ops2_norm = np.array(eq_ops1)\n",
        "eq_ops2_norm = eq_ops2_norm - np.amin(eq_ops2_norm)\n",
        "eq_ops2_norm = eq_ops2_norm / (max(eq_ops2)-min(eq_ops2))"
      ],
      "metadata": {
        "id": "gT9Mu8wCuLa6"
      },
      "execution_count": 74,
      "outputs": []
    },
    {
      "cell_type": "code",
      "source": [
        "# plot adult\n",
        "plt.scatter(np.log10(c_values), accs2_norm, label='Accuracy' )\n",
        "#plt.errorbar(np.log10(c_values), accs1_norm, yerr = stds1, fmt='.', ecolor = 'cyan', color='black', label='Adult')\n",
        "\n",
        "#plot german\n",
        "plt.scatter(np.log10(c_values), eq_ops2_norm, label='Fairness')\n",
        "#plt.errorbar(np.log10(c_values), accs1_G, yerr = stds1_G, fmt='.', ecolor = 'cyan', color='blue', label='German')\n",
        "\n",
        "plt.title('Effect of regularisation strength on normalised accuracy\\n and fairness: fairness-based model')\n",
        "\n",
        "\n",
        "# C is the inverse of regularization strength\n",
        "plt.xlabel(\" $Log_{10}$(C)\")\n",
        "plt.ylabel(\"Normalised performance\")\n",
        "plt.legend(loc='best')\n",
        "plt.show() "
      ],
      "metadata": {
        "id": "eUr1mrMuuV7n",
        "colab": {
          "base_uri": "https://localhost:8080/",
          "height": 0
        },
        "outputId": "ebb152d7-f447-47f3-c888-7e5e590d877c"
      },
      "execution_count": 75,
      "outputs": [
        {
          "output_type": "display_data",
          "data": {
            "text/plain": [
              "<Figure size 432x288 with 1 Axes>"
            ],
            "image/png": "[encoded data removed]"
          },
          "metadata": {
            "needs_background": "light"
          }
        }
      ]
    },
    {
      "cell_type": "code",
      "source": [
        ""
      ],
      "metadata": {
        "id": "TyuGfFx2udZJ"
      },
      "execution_count": 75,
      "outputs": []
    },
    {
      "cell_type": "code",
      "source": [
        ""
      ],
      "metadata": {
        "id": "RBvm1e5kudcg"
      },
      "execution_count": 75,
      "outputs": []
    },
    {
      "cell_type": "code",
      "source": [
        "#German dataset\n",
        "\n",
        "# normalise data\n",
        "\n",
        "accs1_norm_G = np.array(accs1_G)\n",
        "\n",
        "accs1_norm_G = accs1_norm_G - np.amin(accs1_norm_G)\n",
        "\n",
        "accs1_norm_G = accs1_norm_G / (max(accs1_G)-min(accs1_G))\n",
        "\n",
        "\n",
        "\n",
        "eq_ops1_norm_G = np.array(eq_ops1_G)\n",
        "eq_ops1_norm_G = eq_ops1_norm_G - np.amin(eq_ops1_norm_G)\n",
        "eq_ops1_norm_G = eq_ops1_norm_G / (max(eq_ops1_G)-min(eq_ops1_G))\n"
      ],
      "metadata": {
        "id": "klWIYbq2udfh"
      },
      "execution_count": 76,
      "outputs": []
    },
    {
      "cell_type": "code",
      "source": [
        "# plot adult\n",
        "plt.scatter(np.log10(c_values), accs1_norm_G, label='Accuracy' )\n",
        "#plt.errorbar(np.log10(c_values), accs1_norm, yerr = stds1, fmt='.', ecolor = 'cyan', color='black', label='Adult')\n",
        "\n",
        "#plot german\n",
        "plt.scatter(np.log10(c_values), eq_ops1_norm_G, label='Fairness')\n",
        "#plt.errorbar(np.log10(c_values), accs1_G, yerr = stds1_G, fmt='.', ecolor = 'cyan', color='blue', label='German')\n",
        "\n",
        "plt.title('Effect of regularisation strength on normalised accuracy\\n and fairness: standard model')\n",
        "\n",
        "\n",
        "# C is the inverse of regularization strength\n",
        "plt.xlabel(\" $Log_{10}$(C)\")\n",
        "plt.ylabel(\"Normalised performance\")\n",
        "plt.legend(loc='best')\n",
        "plt.show()  "
      ],
      "metadata": {
        "id": "3tSjGOD8uzEx",
        "colab": {
          "base_uri": "https://localhost:8080/",
          "height": 0
        },
        "outputId": "a5ae3766-f66c-4309-e7e7-183047ea9fbf"
      },
      "execution_count": 77,
      "outputs": [
        {
          "output_type": "display_data",
          "data": {
            "text/plain": [
              "<Figure size 432x288 with 1 Axes>"
            ],
            "image/png": "[encoded data removed]"
          },
          "metadata": {
            "needs_background": "light"
          }
        }
      ]
    },
    {
      "cell_type": "code",
      "source": [
        "# normalise data\n",
        "\n",
        "accs2_norm_G = np.array(accs2_G)\n",
        "\n",
        "accs2_norm_G = accs2_norm_G - np.amin(accs2_norm_G)\n",
        "\n",
        "accs2_norm_G = accs2_norm_G / (max(accs2_G)-min(accs2_G))\n",
        "\n",
        "\n",
        "\n",
        "eq_ops2_norm_G = np.array(eq_ops2_G)\n",
        "eq_ops2_norm_G = eq_ops2_norm_G - np.amin(eq_ops2_norm_G)\n",
        "eq_ops2_norm_G = eq_ops2_norm_G / (max(eq_ops2_G)-min(eq_ops2_G))\n"
      ],
      "metadata": {
        "id": "8SKuGoHmu7v-"
      },
      "execution_count": 78,
      "outputs": []
    },
    {
      "cell_type": "code",
      "source": [
        "# plot adult\n",
        "plt.scatter(np.log10(c_values), accs2_norm_G, label='Accuracy' )\n",
        "#plt.errorbar(np.log10(c_values), accs1_norm, yerr = stds1, fmt='.', ecolor = 'cyan', color='black', label='Adult')\n",
        "\n",
        "#plot german\n",
        "plt.scatter(np.log10(c_values), eq_ops2_norm_G, label='Fairness')\n",
        "#plt.errorbar(np.log10(c_values), accs1_G, yerr = stds1_G, fmt='.', ecolor = 'cyan', color='blue', label='German')\n",
        "\n",
        "plt.title('Effect of regularisation strength on normalised accuracy\\n and fairness: fairness-based model')\n",
        "\n",
        "\n",
        "# C is the inverse of regularization strength\n",
        "plt.xlabel(\" $Log_{10}$(C)\")\n",
        "plt.ylabel(\"Normalised performance\")\n",
        "plt.legend(loc='best')\n",
        "plt.show() "
      ],
      "metadata": {
        "id": "uJqUXUISvHsI",
        "colab": {
          "base_uri": "https://localhost:8080/",
          "height": 0
        },
        "outputId": "969d39c6-90cf-4f97-f6ae-b55c990af57b"
      },
      "execution_count": 79,
      "outputs": [
        {
          "output_type": "display_data",
          "data": {
            "text/plain": [
              "<Figure size 432x288 with 1 Axes>"
            ],
            "image/png": "[encoded data removed]"
          },
          "metadata": {
            "needs_background": "light"
          }
        }
      ]
    }
  ]
}